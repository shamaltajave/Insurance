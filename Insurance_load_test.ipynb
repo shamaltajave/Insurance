{
 "cells": [
  {
   "cell_type": "code",
   "execution_count": 23,
   "metadata": {},
   "outputs": [],
   "source": [
    "import pickle\n",
    "import numpy as np\n",
    "import json"
   ]
  },
  {
   "cell_type": "code",
   "execution_count": 24,
   "metadata": {},
   "outputs": [],
   "source": [
    "insu_model= pickle.load(open('insu_model.pickle','rb'))"
   ]
  },
  {
   "cell_type": "code",
   "execution_count": 25,
   "metadata": {},
   "outputs": [
    {
     "data": {
      "text/plain": [
       "LinearRegression()"
      ]
     },
     "execution_count": 25,
     "metadata": {},
     "output_type": "execute_result"
    }
   ],
   "source": [
    "insu_model"
   ]
  },
  {
   "cell_type": "code",
   "execution_count": 47,
   "metadata": {},
   "outputs": [],
   "source": [
    "def predict_charges(age,bmi,children,smoker):\n",
    "    options = ['yes','no']\n",
    "        \n",
    "    smoker=smoker.lower()\n",
    "    op_index=options.index(smoker)\n",
    "    x=np.zeros(5)\n",
    "    x[0]=age\n",
    "    x[1]=bmi\n",
    "    x[2]=children\n",
    "    x[op_index]=1\n",
    "    return insu_model.predict([x])[0]\n"
   ]
  },
  {
   "cell_type": "code",
   "execution_count": 49,
   "metadata": {},
   "outputs": [
    {
     "data": {
      "text/plain": [
       "9124.707655597607"
      ]
     },
     "execution_count": 49,
     "metadata": {},
     "output_type": "execute_result"
    }
   ],
   "source": [
    "predict_charges(19, 27.90, 0, 'yes')"
   ]
  },
  {
   "cell_type": "code",
   "execution_count": null,
   "metadata": {},
   "outputs": [],
   "source": [
    "def predict_charges(age,bmi,children,smoker):\n",
    "    x=np.zeros(4)\n",
    "    x[0]=age\n",
    "    x[1]=bmi\n",
    "    x[2]=children\n",
    "    x[3]=smoker\n",
    "    prediction= insu_model.predict([x])[0]\n",
    "    return print('Charges predicted are :', round(prediction,2))"
   ]
  }
 ],
 "metadata": {
  "kernelspec": {
   "display_name": "Python 3",
   "language": "python",
   "name": "python3"
  },
  "language_info": {
   "codemirror_mode": {
    "name": "ipython",
    "version": 3
   },
   "file_extension": ".py",
   "mimetype": "text/x-python",
   "name": "python",
   "nbconvert_exporter": "python",
   "pygments_lexer": "ipython3",
   "version": "3.8.5"
  }
 },
 "nbformat": 4,
 "nbformat_minor": 4
}
